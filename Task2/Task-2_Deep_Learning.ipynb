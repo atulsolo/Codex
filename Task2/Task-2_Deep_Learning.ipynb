{
  "cells": [
    {
      "cell_type": "code",
      "execution_count": null,
      "metadata": {},
      "outputs": [],
      "source": [
        "# Task 2 \u2013 Deep Learning Model",
        "import tensorflow as tf",
        "from tensorflow.keras import layers, models",
        "from tensorflow.keras.datasets import mnist",
        "",
        "# Load dataset",
        "(x_train, y_train), (x_test, y_test) = mnist.load_data()",
        "x_train, x_test = x_train / 255.0, x_test / 255.0",
        "",
        "# Reshape for CNN",
        "x_train = x_train.reshape(-1, 28, 28, 1)",
        "x_test = x_test.reshape(-1, 28, 28, 1)",
        "",
        "# Build model",
        "model = models.Sequential([",
        "    layers.Conv2D(32, (3,3), activation='relu', input_shape=(28,28,1)),",
        "    layers.MaxPooling2D((2,2)),",
        "    layers.Flatten(),",
        "    layers.Dense(64, activation='relu'),",
        "    layers.Dense(10, activation='softmax')",
        "])",
        "",
        "# Compile & Train",
        "model.compile(optimizer='adam', loss='sparse_categorical_crossentropy', metrics=['accuracy'])",
        "model.fit(x_train, y_train, epochs=1, validation_data=(x_test, y_test))",
        "",
        "# Evaluate",
        "test_loss, test_acc = model.evaluate(x_test, y_test)",
        "print(f'Test Accuracy: {test_acc}')"
      ]
    }
  ],
  "metadata": {
    "kernelspec": {
      "display_name": "Python 3",
      "language": "python",
      "name": "python3"
    },
    "language_info": {
      "name": "python",
      "version": "3.9"
    }
  },
  "nbformat": 4,
  "nbformat_minor": 2
}