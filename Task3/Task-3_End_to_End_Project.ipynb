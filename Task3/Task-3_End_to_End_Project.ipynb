{
  "cells": [
    {
      "cell_type": "code",
      "execution_count": null,
      "metadata": {},
      "outputs": [],
      "source": [
        "# Task 3 \u2013 Flask App for ML Deployment",
        "from flask import Flask, request, jsonify",
        "import pickle",
        "import numpy as np",
        "",
        "# Sample model",
        "from sklearn.datasets import load_iris",
        "from sklearn.linear_model import LogisticRegression",
        "",
        "iris = load_iris()",
        "X, y = iris.data, iris.target",
        "model = LogisticRegression(max_iter=200)",
        "model.fit(X, y)",
        "",
        "# Save model",
        "with open('iris_model.pkl', 'wb') as f:",
        "    pickle.dump(model, f)",
        "",
        "# Flask app",
        "app = Flask(__name__)",
        "",
        "@app.route('/predict', methods=['POST'])",
        "def predict():",
        "    data = request.get_json()",
        "    features = np.array(data['features']).reshape(1, -1)",
        "    with open('iris_model.pkl', 'rb') as f:",
        "        model = pickle.load(f)",
        "    prediction = model.predict(features)[0]",
        "    return jsonify({'prediction': int(prediction)})",
        "",
        "# Uncomment to run",
        "# if __name__ == '__main__':",
        "#     app.run(debug=True)"
      ]
    }
  ],
  "metadata": {
    "kernelspec": {
      "display_name": "Python 3",
      "language": "python",
      "name": "python3"
    },
    "language_info": {
      "name": "python",
      "version": "3.9"
    }
  },
  "nbformat": 4,
  "nbformat_minor": 2
}