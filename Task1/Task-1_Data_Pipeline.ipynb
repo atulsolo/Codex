{
  "cells": [
    {
      "cell_type": "code",
      "execution_count": null,
      "metadata": {},
      "outputs": [],
      "source": [
        "# Task 1 \u2013 Data Pipeline (ETL)",
        "import pandas as pd",
        "from sklearn.preprocessing import StandardScaler",
        "",
        "# Sample data",
        "data = {",
        "    'Name': ['Alice', 'Bob', 'Charlie', 'David', 'Eva'],",
        "    'Age': [25, 30, 35, 40, None],",
        "    'Gender': ['F', 'M', 'M', 'M', 'F'],",
        "    'Salary': [50000, 60000, None, 80000, 70000]",
        "}",
        "df = pd.DataFrame(data)",
        "",
        "# Handle missing values",
        "df['Age'].fillna(df['Age'].mean(), inplace=True)",
        "df['Salary'].fillna(df['Salary'].mean(), inplace=True)",
        "",
        "# Encode categorical column",
        "df = pd.get_dummies(df, columns=['Gender'], drop_first=True)",
        "",
        "# Feature scaling",
        "scaler = StandardScaler()",
        "df[['Age', 'Salary']] = scaler.fit_transform(df[['Age', 'Salary']])",
        "",
        "# Output final DataFrame",
        "print(df)"
      ]
    }
  ],
  "metadata": {
    "kernelspec": {
      "display_name": "Python 3",
      "language": "python",
      "name": "python3"
    },
    "language_info": {
      "name": "python",
      "version": "3.9"
    }
  },
  "nbformat": 4,
  "nbformat_minor": 2
}