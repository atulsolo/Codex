{
  "cells": [
    {
      "cell_type": "code",
      "execution_count": null,
      "metadata": {},
      "outputs": [],
      "source": [
        "# Task 4 \u2013 Linear Programming using PuLP",
        "from pulp import LpMaximize, LpProblem, LpVariable, lpSum",
        "",
        "# Define model",
        "model = LpProblem(name='business-optimization', sense=LpMaximize)",
        "",
        "# Variables",
        "x = LpVariable(name='x', lowBound=0)",
        "y = LpVariable(name='y', lowBound=0)",
        "",
        "# Constraints",
        "model += (2 * x + y <= 20, 'constraint1')",
        "model += (4 * x - 5 * y >= -10, 'constraint2')",
        "model += (-x + 2 * y >= -2, 'constraint3')",
        "",
        "# Objective",
        "model += lpSum([3 * x, 2 * y]), 'profit'",
        "",
        "# Solve",
        "model.solve()",
        "",
        "# Results",
        "print(f'x = {x.value()}')",
        "print(f'y = {y.value()}')",
        "print(f'Max profit = {model.objective.value()}')"
      ]
    }
  ],
  "metadata": {
    "kernelspec": {
      "display_name": "Python 3",
      "language": "python",
      "name": "python3"
    },
    "language_info": {
      "name": "python",
      "version": "3.9"
    }
  },
  "nbformat": 4,
  "nbformat_minor": 2
}